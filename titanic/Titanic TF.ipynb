{
 "cells": [
  {
   "cell_type": "code",
   "execution_count": 36,
   "metadata": {
    "collapsed": true
   },
   "outputs": [],
   "source": [
    "import tensorflow as tf"
   ]
  },
  {
   "cell_type": "code",
   "execution_count": 37,
   "metadata": {
    "collapsed": true
   },
   "outputs": [],
   "source": [
    "# pandas\n",
    "import pandas as pd"
   ]
  },
  {
   "cell_type": "code",
   "execution_count": 38,
   "metadata": {
    "collapsed": true
   },
   "outputs": [],
   "source": [
    "import numpy as np\n",
    "import matplotlib.pyplot as plt\n",
    "import seaborn as sns\n",
    "sns.set_style('whitegrid')\n",
    "%matplotlib inline"
   ]
  },
  {
   "cell_type": "code",
   "execution_count": 39,
   "metadata": {
    "collapsed": true
   },
   "outputs": [],
   "source": [
    "train_df = pd.read_csv(\"/data-sets/titanic/train.csv\")\n",
    "test_df    = pd.read_csv(\"/data-sets/titanic/test.csv\")\n",
    "test_validation = pd.read_csv(\"/data-sets/titanic/gender_submission.csv\")"
   ]
  },
  {
   "cell_type": "code",
   "execution_count": 40,
   "metadata": {},
   "outputs": [],
   "source": [
    "test_df = test_df.join(test_validation.set_index(\"PassengerId\"),on=\"PassengerId\", how=\"left\")"
   ]
  },
  {
   "cell_type": "code",
   "execution_count": 41,
   "metadata": {},
   "outputs": [
    {
     "name": "stdout",
     "output_type": "stream",
     "text": [
      "<class 'pandas.core.frame.DataFrame'>\n",
      "RangeIndex: 418 entries, 0 to 417\n",
      "Data columns (total 12 columns):\n",
      "PassengerId    418 non-null int64\n",
      "Pclass         418 non-null int64\n",
      "Name           418 non-null object\n",
      "Sex            418 non-null object\n",
      "Age            332 non-null float64\n",
      "SibSp          418 non-null int64\n",
      "Parch          418 non-null int64\n",
      "Ticket         418 non-null object\n",
      "Fare           417 non-null float64\n",
      "Cabin          91 non-null object\n",
      "Embarked       418 non-null object\n",
      "Survived       418 non-null int64\n",
      "dtypes: float64(2), int64(5), object(5)\n",
      "memory usage: 39.3+ KB\n"
     ]
    }
   ],
   "source": [
    "test_df.info()"
   ]
  },
  {
   "cell_type": "code",
   "execution_count": 42,
   "metadata": {
    "collapsed": true
   },
   "outputs": [],
   "source": [
    "all_df = pd.concat([train_df,test_df], axis=0)"
   ]
  },
  {
   "cell_type": "code",
   "execution_count": 43,
   "metadata": {},
   "outputs": [
    {
     "name": "stdout",
     "output_type": "stream",
     "text": [
      "<class 'pandas.core.frame.DataFrame'>\n",
      "Int64Index: 1309 entries, 0 to 417\n",
      "Data columns (total 12 columns):\n",
      "Age            1046 non-null float64\n",
      "Cabin          295 non-null object\n",
      "Embarked       1307 non-null object\n",
      "Fare           1308 non-null float64\n",
      "Name           1309 non-null object\n",
      "Parch          1309 non-null int64\n",
      "PassengerId    1309 non-null int64\n",
      "Pclass         1309 non-null int64\n",
      "Sex            1309 non-null object\n",
      "SibSp          1309 non-null int64\n",
      "Survived       1309 non-null int64\n",
      "Ticket         1309 non-null object\n",
      "dtypes: float64(2), int64(5), object(5)\n",
      "memory usage: 132.9+ KB\n"
     ]
    }
   ],
   "source": [
    "all_df.info()"
   ]
  },
  {
   "cell_type": "code",
   "execution_count": 44,
   "metadata": {
    "collapsed": true
   },
   "outputs": [],
   "source": [
    "#convert title and lastname to integer\n",
    "def split_name(fullName):\n",
    "    firstName, lastName = fullName.split(\",\")\n",
    "    titleIndex = lastName.find(\".\")\n",
    "    title, lastName = lastName.split(\".\", 1)\n",
    "    return [title,lastName]\n",
    "\n",
    "def get_title(name):\n",
    "    title = split_name(name['Name'])[0]\n",
    "    return hash(title)%256\n",
    "    \n",
    "def get_lastName(name):\n",
    "    lastName = split_name(name['Name'])[1]\n",
    "    return hash(lastName)%1024\n",
    "\n",
    "#convert sex to 1,0\n",
    "def conv_sex(row):\n",
    "    if row['Sex']=='male':\n",
    "        return 1\n",
    "    else:\n",
    "        return 0"
   ]
  },
  {
   "cell_type": "code",
   "execution_count": 45,
   "metadata": {},
   "outputs": [
    {
     "data": {
      "text/plain": [
       "pandas.core.series.Series"
      ]
     },
     "execution_count": 45,
     "metadata": {},
     "output_type": "execute_result"
    }
   ],
   "source": [
    "type(all_df['Name'])"
   ]
  },
  {
   "cell_type": "code",
   "execution_count": 46,
   "metadata": {},
   "outputs": [],
   "source": [
    "all_df['Name'] = all_df['Name'].astype(str)\n",
    "all_df['Title'] = all_df[['Name']].apply(get_title,axis=1)\n",
    "all_df['LastName'] = all_df[['Name']].apply(get_lastName,axis=1)\n",
    "all_df = all_df.drop(['Name'], axis=1)"
   ]
  },
  {
   "cell_type": "code",
   "execution_count": 47,
   "metadata": {},
   "outputs": [],
   "source": [
    "all_df['Sex'] = all_df['Sex'].astype(str)\n",
    "all_df['Sex'] = all_df.apply(conv_sex, axis=1)"
   ]
  },
  {
   "cell_type": "code",
   "execution_count": 48,
   "metadata": {
    "collapsed": true
   },
   "outputs": [],
   "source": [
    "# get average, std, and number of NaN values in titanic_df\n",
    "average_age_titanic   = all_df[\"Age\"].mean()\n",
    "std_age_titanic       = all_df[\"Age\"].std()\n",
    "count_nan_age_titanic = all_df[\"Age\"].isnull().sum()"
   ]
  },
  {
   "cell_type": "code",
   "execution_count": 49,
   "metadata": {
    "collapsed": true
   },
   "outputs": [],
   "source": [
    "rand = np.random.randint(average_age_titanic - std_age_titanic, average_age_titanic + std_age_titanic, size = count_nan_age_titanic)\n"
   ]
  },
  {
   "cell_type": "code",
   "execution_count": 50,
   "metadata": {},
   "outputs": [
    {
     "name": "stderr",
     "output_type": "stream",
     "text": [
      "/usr/local/lib/python2.7/dist-packages/ipykernel_launcher.py:1: SettingWithCopyWarning: \n",
      "A value is trying to be set on a copy of a slice from a DataFrame\n",
      "\n",
      "See the caveats in the documentation: http://pandas.pydata.org/pandas-docs/stable/indexing.html#indexing-view-versus-copy\n",
      "  \"\"\"Entry point for launching an IPython kernel.\n"
     ]
    }
   ],
   "source": [
    "all_df[\"Age\"][np.isnan(all_df[\"Age\"])] = rand"
   ]
  },
  {
   "cell_type": "code",
   "execution_count": 51,
   "metadata": {
    "collapsed": true
   },
   "outputs": [],
   "source": [
    "#extract ticket class info from ticket field\n",
    "def get_ticketClass(row):\n",
    "    ticketInfo = row[\"Ticket\"].split(\" \",1)\n",
    "    if len(ticketInfo) > 1: \n",
    "        return hash(ticketInfo[0])%256+1\n",
    "    else:\n",
    "        return 0"
   ]
  },
  {
   "cell_type": "code",
   "execution_count": 52,
   "metadata": {
    "collapsed": true
   },
   "outputs": [],
   "source": [
    "all_df['TicketClass'] = all_df[['Ticket']].apply(get_ticketClass, axis=1)"
   ]
  },
  {
   "cell_type": "code",
   "execution_count": 53,
   "metadata": {
    "collapsed": true
   },
   "outputs": [],
   "source": [
    "all_df = all_df.drop(['Ticket'],axis=1)"
   ]
  },
  {
   "cell_type": "code",
   "execution_count": 54,
   "metadata": {
    "collapsed": true
   },
   "outputs": [],
   "source": [
    "#Extract Cabin number\n",
    "def get_cabinNum(row):\n",
    "    if pd.isnull(row['Cabin']):\n",
    "        return 0\n",
    "    else:\n",
    "        cabinInfo = row[\"Cabin\"].split(\" \")\n",
    "        return len(cabinInfo)"
   ]
  },
  {
   "cell_type": "code",
   "execution_count": 55,
   "metadata": {
    "collapsed": true
   },
   "outputs": [],
   "source": [
    "all_df['CabinNum'] = all_df[['Cabin']].apply(get_cabinNum, axis=1)\n",
    "all_df = all_df.drop(['Cabin'],axis=1)"
   ]
  },
  {
   "cell_type": "code",
   "execution_count": 56,
   "metadata": {
    "collapsed": true
   },
   "outputs": [],
   "source": [
    "#Extract Cabin number\n",
    "def get_embarked(row):\n",
    "    return hash(row[\"Embarked\"])%256"
   ]
  },
  {
   "cell_type": "code",
   "execution_count": 57,
   "metadata": {
    "collapsed": true
   },
   "outputs": [],
   "source": [
    "all_df['Embarked'] = all_df[['Embarked']].apply(get_embarked, axis=1)"
   ]
  },
  {
   "cell_type": "code",
   "execution_count": 58,
   "metadata": {
    "collapsed": true
   },
   "outputs": [],
   "source": [
    "#Fare\n",
    "average_fare_titanic   = test_df[\"Fare\"].mean()\n",
    "std_fare_titanic       = test_df[\"Fare\"].std()\n",
    "count_nan_fare_titanic = test_df[\"Fare\"].isnull().sum()"
   ]
  },
  {
   "cell_type": "code",
   "execution_count": 59,
   "metadata": {},
   "outputs": [
    {
     "name": "stderr",
     "output_type": "stream",
     "text": [
      "/usr/local/lib/python2.7/dist-packages/ipykernel_launcher.py:2: SettingWithCopyWarning: \n",
      "A value is trying to be set on a copy of a slice from a DataFrame\n",
      "\n",
      "See the caveats in the documentation: http://pandas.pydata.org/pandas-docs/stable/indexing.html#indexing-view-versus-copy\n",
      "  \n"
     ]
    }
   ],
   "source": [
    "rand_fare = np.random.randint(average_fare_titanic - std_fare_titanic, average_fare_titanic + std_fare_titanic, size = count_nan_fare_titanic)\n",
    "all_df[\"Fare\"][np.isnan(all_df[\"Fare\"])] = rand_fare\n"
   ]
  },
  {
   "cell_type": "code",
   "execution_count": 60,
   "metadata": {
    "collapsed": true
   },
   "outputs": [],
   "source": [
    "all_features = all_df.drop(\"Survived\",axis=1)"
   ]
  },
  {
   "cell_type": "code",
   "execution_count": 61,
   "metadata": {
    "collapsed": true
   },
   "outputs": [],
   "source": [
    "all_outputs = all_df['Survived']"
   ]
  },
  {
   "cell_type": "code",
   "execution_count": 62,
   "metadata": {},
   "outputs": [],
   "source": [
    "# Normalize the inputs so they have ~0 mean, and 1 Standard Deviation\n",
    "# make trainning easiler\n",
    "all_features = (all_features - all_features.mean(axis=0)) / all_features.std(axis=0)"
   ]
  },
  {
   "cell_type": "code",
   "execution_count": 63,
   "metadata": {
    "collapsed": true
   },
   "outputs": [],
   "source": [
    "all_df.drop(\"PassengerId\",axis=1,inplace=True)"
   ]
  },
  {
   "cell_type": "code",
   "execution_count": 64,
   "metadata": {
    "collapsed": true
   },
   "outputs": [],
   "source": [
    "from sklearn.model_selection import train_test_split"
   ]
  },
  {
   "cell_type": "code",
   "execution_count": 65,
   "metadata": {},
   "outputs": [],
   "source": [
    "X = all_features\n",
    "y = all_outputs\n",
    "X_train, X_test, y_train, y_test = train_test_split(X, y, test_size=0.33, random_state=42)"
   ]
  },
  {
   "cell_type": "code",
   "execution_count": 66,
   "metadata": {},
   "outputs": [],
   "source": [
    "# start with logistic ml\n",
    "from sklearn.linear_model import LogisticRegression\n",
    "logmodel = LogisticRegression()\n",
    "logmodel.fit(X_train,y_train)\n",
    "predictions = logmodel.predict(X_test)"
   ]
  },
  {
   "cell_type": "code",
   "execution_count": 67,
   "metadata": {},
   "outputs": [
    {
     "name": "stdout",
     "output_type": "stream",
     "text": [
      "             precision    recall  f1-score   support\n",
      "\n",
      "          0       0.88      0.88      0.88       269\n",
      "          1       0.80      0.81      0.80       163\n",
      "\n",
      "avg / total       0.85      0.85      0.85       432\n",
      "\n"
     ]
    }
   ],
   "source": [
    "# print report\n",
    "from sklearn.metrics import classification_report\n",
    "print(classification_report(y_test,predictions))"
   ]
  },
  {
   "cell_type": "code",
   "execution_count": 68,
   "metadata": {},
   "outputs": [
    {
     "data": {
      "text/plain": [
       "SVC(C=1.0, cache_size=200, class_weight=None, coef0=0.0,\n",
       "  decision_function_shape=None, degree=3, gamma='auto', kernel='rbf',\n",
       "  max_iter=-1, probability=False, random_state=None, shrinking=True,\n",
       "  tol=0.001, verbose=False)"
      ]
     },
     "execution_count": 68,
     "metadata": {},
     "output_type": "execute_result"
    }
   ],
   "source": [
    "# start with SVM\n",
    "from sklearn.svm import SVC\n",
    "model = SVC()\n",
    "model.fit(X_train,y_train)"
   ]
  },
  {
   "cell_type": "code",
   "execution_count": 69,
   "metadata": {},
   "outputs": [
    {
     "name": "stdout",
     "output_type": "stream",
     "text": [
      "Fitting 3 folds for each of 25 candidates, totalling 75 fits\n",
      "[CV] kernel=rbf, C=0.1, gamma=1 ......................................\n",
      "[CV] ....... kernel=rbf, C=0.1, gamma=1, score=0.621160, total=   0.0s\n",
      "[CV] kernel=rbf, C=0.1, gamma=1 ......................................\n",
      "[CV] ....... kernel=rbf, C=0.1, gamma=1, score=0.623288, total=   0.0s\n",
      "[CV] kernel=rbf, C=0.1, gamma=1 ......................................\n",
      "[CV] ....... kernel=rbf, C=0.1, gamma=1, score=0.623288, total=   0.0s\n",
      "[CV] kernel=rbf, C=0.1, gamma=0.1 ....................................\n",
      "[CV] ..... kernel=rbf, C=0.1, gamma=0.1, score=0.836177, total=   0.0s\n",
      "[CV] kernel=rbf, C=0.1, gamma=0.1 ....................................\n",
      "[CV] ..... kernel=rbf, C=0.1, gamma=0.1, score=0.863014, total=   0.0s\n",
      "[CV] kernel=rbf, C=0.1, gamma=0.1 ....................................\n"
     ]
    },
    {
     "name": "stderr",
     "output_type": "stream",
     "text": [
      "[Parallel(n_jobs=1)]: Done   1 out of   1 | elapsed:    0.0s remaining:    0.0s\n",
      "[Parallel(n_jobs=1)]: Done   2 out of   2 | elapsed:    0.1s remaining:    0.0s\n"
     ]
    },
    {
     "name": "stdout",
     "output_type": "stream",
     "text": [
      "[CV] ..... kernel=rbf, C=0.1, gamma=0.1, score=0.845890, total=   0.0s\n",
      "[CV] kernel=rbf, C=0.1, gamma=0.01 ...................................\n",
      "[CV] .... kernel=rbf, C=0.1, gamma=0.01, score=0.836177, total=   0.0s\n",
      "[CV] kernel=rbf, C=0.1, gamma=0.01 ...................................\n",
      "[CV] .... kernel=rbf, C=0.1, gamma=0.01, score=0.866438, total=   0.0s\n",
      "[CV] kernel=rbf, C=0.1, gamma=0.01 ...................................\n",
      "[CV] .... kernel=rbf, C=0.1, gamma=0.01, score=0.842466, total=   0.0s\n",
      "[CV] kernel=rbf, C=0.1, gamma=0.001 ..................................\n",
      "[CV] ... kernel=rbf, C=0.1, gamma=0.001, score=0.621160, total=   0.0s\n",
      "[CV] kernel=rbf, C=0.1, gamma=0.001 ..................................\n",
      "[CV] ... kernel=rbf, C=0.1, gamma=0.001, score=0.623288, total=   0.0s\n",
      "[CV] kernel=rbf, C=0.1, gamma=0.001 ..................................\n",
      "[CV] ... kernel=rbf, C=0.1, gamma=0.001, score=0.623288, total=   0.0s\n",
      "[CV] kernel=rbf, C=0.1, gamma=0.0001 .................................\n",
      "[CV] .. kernel=rbf, C=0.1, gamma=0.0001, score=0.621160, total=   0.0s\n",
      "[CV] kernel=rbf, C=0.1, gamma=0.0001 .................................\n",
      "[CV] .. kernel=rbf, C=0.1, gamma=0.0001, score=0.623288, total=   0.0s\n",
      "[CV] kernel=rbf, C=0.1, gamma=0.0001 .................................\n",
      "[CV] .. kernel=rbf, C=0.1, gamma=0.0001, score=0.623288, total=   0.0s\n",
      "[CV] kernel=rbf, C=1, gamma=1 ........................................\n",
      "[CV] ......... kernel=rbf, C=1, gamma=1, score=0.747440, total=   0.0s\n",
      "[CV] kernel=rbf, C=1, gamma=1 ........................................\n",
      "[CV] ......... kernel=rbf, C=1, gamma=1, score=0.784247, total=   0.0s\n",
      "[CV] kernel=rbf, C=1, gamma=1 ........................................\n",
      "[CV] ......... kernel=rbf, C=1, gamma=1, score=0.763699, total=   0.0s\n",
      "[CV] kernel=rbf, C=1, gamma=0.1 ......................................\n",
      "[CV] ....... kernel=rbf, C=1, gamma=0.1, score=0.843003, total=   0.0s\n",
      "[CV] kernel=rbf, C=1, gamma=0.1 ......................................\n",
      "[CV] ....... kernel=rbf, C=1, gamma=0.1, score=0.869863, total=   0.0s\n",
      "[CV] kernel=rbf, C=1, gamma=0.1 ......................................\n",
      "[CV] ....... kernel=rbf, C=1, gamma=0.1, score=0.839041, total=   0.0s\n",
      "[CV] kernel=rbf, C=1, gamma=0.01 .....................................\n",
      "[CV] ...... kernel=rbf, C=1, gamma=0.01, score=0.836177, total=   0.0s\n",
      "[CV] kernel=rbf, C=1, gamma=0.01 .....................................\n",
      "[CV] ...... kernel=rbf, C=1, gamma=0.01, score=0.869863, total=   0.0s\n",
      "[CV] kernel=rbf, C=1, gamma=0.01 .....................................\n",
      "[CV] ...... kernel=rbf, C=1, gamma=0.01, score=0.842466, total=   0.0s\n",
      "[CV] kernel=rbf, C=1, gamma=0.001 ....................................\n",
      "[CV] ..... kernel=rbf, C=1, gamma=0.001, score=0.836177, total=   0.0s\n",
      "[CV] kernel=rbf, C=1, gamma=0.001 ....................................\n",
      "[CV] ..... kernel=rbf, C=1, gamma=0.001, score=0.873288, total=   0.0s\n",
      "[CV] kernel=rbf, C=1, gamma=0.001 ....................................\n",
      "[CV] ..... kernel=rbf, C=1, gamma=0.001, score=0.835616, total=   0.0s\n",
      "[CV] kernel=rbf, C=1, gamma=0.0001 ...................................\n",
      "[CV] .... kernel=rbf, C=1, gamma=0.0001, score=0.621160, total=   0.0s\n",
      "[CV] kernel=rbf, C=1, gamma=0.0001 ...................................\n",
      "[CV] .... kernel=rbf, C=1, gamma=0.0001, score=0.623288, total=   0.0s\n",
      "[CV] kernel=rbf, C=1, gamma=0.0001 ...................................\n",
      "[CV] .... kernel=rbf, C=1, gamma=0.0001, score=0.623288, total=   0.0s\n",
      "[CV] kernel=rbf, C=10, gamma=1 .......................................\n",
      "[CV] ........ kernel=rbf, C=10, gamma=1, score=0.740614, total=   0.0s\n",
      "[CV] kernel=rbf, C=10, gamma=1 .......................................\n",
      "[CV] ........ kernel=rbf, C=10, gamma=1, score=0.753425, total=   0.0s\n",
      "[CV] kernel=rbf, C=10, gamma=1 .......................................\n",
      "[CV] ........ kernel=rbf, C=10, gamma=1, score=0.763699, total=   0.0s\n",
      "[CV] kernel=rbf, C=10, gamma=0.1 .....................................\n",
      "[CV] ...... kernel=rbf, C=10, gamma=0.1, score=0.815700, total=   0.0s\n",
      "[CV] kernel=rbf, C=10, gamma=0.1 .....................................\n",
      "[CV] ...... kernel=rbf, C=10, gamma=0.1, score=0.828767, total=   0.0s\n",
      "[CV] kernel=rbf, C=10, gamma=0.1 .....................................\n",
      "[CV] ...... kernel=rbf, C=10, gamma=0.1, score=0.825342, total=   0.0s\n",
      "[CV] kernel=rbf, C=10, gamma=0.01 ....................................\n",
      "[CV] ..... kernel=rbf, C=10, gamma=0.01, score=0.836177, total=   0.0s\n",
      "[CV] kernel=rbf, C=10, gamma=0.01 ....................................\n",
      "[CV] ..... kernel=rbf, C=10, gamma=0.01, score=0.866438, total=   0.0s\n",
      "[CV] kernel=rbf, C=10, gamma=0.01 ....................................\n",
      "[CV] ..... kernel=rbf, C=10, gamma=0.01, score=0.845890, total=   0.0s\n",
      "[CV] kernel=rbf, C=10, gamma=0.001 ...................................\n",
      "[CV] .... kernel=rbf, C=10, gamma=0.001, score=0.836177, total=   0.0s\n",
      "[CV] kernel=rbf, C=10, gamma=0.001 ...................................\n",
      "[CV] .... kernel=rbf, C=10, gamma=0.001, score=0.880137, total=   0.0s\n",
      "[CV] kernel=rbf, C=10, gamma=0.001 ...................................\n",
      "[CV] .... kernel=rbf, C=10, gamma=0.001, score=0.845890, total=   0.0s\n",
      "[CV] kernel=rbf, C=10, gamma=0.0001 ..................................\n",
      "[CV] ... kernel=rbf, C=10, gamma=0.0001, score=0.836177, total=   0.0s\n",
      "[CV] kernel=rbf, C=10, gamma=0.0001 ..................................\n",
      "[CV] ... kernel=rbf, C=10, gamma=0.0001, score=0.873288, total=   0.0s\n",
      "[CV] kernel=rbf, C=10, gamma=0.0001 ..................................\n",
      "[CV] ... kernel=rbf, C=10, gamma=0.0001, score=0.835616, total=   0.0s\n",
      "[CV] kernel=rbf, C=100, gamma=1 ......................................\n",
      "[CV] ....... kernel=rbf, C=100, gamma=1, score=0.730375, total=   0.0s\n",
      "[CV] kernel=rbf, C=100, gamma=1 ......................................\n",
      "[CV] ....... kernel=rbf, C=100, gamma=1, score=0.750000, total=   0.0s\n",
      "[CV] kernel=rbf, C=100, gamma=1 ......................................\n",
      "[CV] ....... kernel=rbf, C=100, gamma=1, score=0.756849, total=   0.0s\n",
      "[CV] kernel=rbf, C=100, gamma=0.1 ....................................\n",
      "[CV] ..... kernel=rbf, C=100, gamma=0.1, score=0.791809, total=   0.0s\n",
      "[CV] kernel=rbf, C=100, gamma=0.1 ....................................\n",
      "[CV] ..... kernel=rbf, C=100, gamma=0.1, score=0.808219, total=   0.0s\n",
      "[CV] kernel=rbf, C=100, gamma=0.1 ....................................\n",
      "[CV] ..... kernel=rbf, C=100, gamma=0.1, score=0.815068, total=   0.0s\n",
      "[CV] kernel=rbf, C=100, gamma=0.01 ...................................\n",
      "[CV] .... kernel=rbf, C=100, gamma=0.01, score=0.839590, total=   0.0s\n",
      "[CV] kernel=rbf, C=100, gamma=0.01 ...................................\n",
      "[CV] .... kernel=rbf, C=100, gamma=0.01, score=0.869863, total=   0.0s\n",
      "[CV] kernel=rbf, C=100, gamma=0.01 ...................................\n",
      "[CV] .... kernel=rbf, C=100, gamma=0.01, score=0.839041, total=   0.0s\n",
      "[CV] kernel=rbf, C=100, gamma=0.001 ..................................\n",
      "[CV] ... kernel=rbf, C=100, gamma=0.001, score=0.836177, total=   0.0s\n",
      "[CV] kernel=rbf, C=100, gamma=0.001 ..................................\n",
      "[CV] ... kernel=rbf, C=100, gamma=0.001, score=0.873288, total=   0.0s\n",
      "[CV] kernel=rbf, C=100, gamma=0.001 ..................................\n",
      "[CV] ... kernel=rbf, C=100, gamma=0.001, score=0.845890, total=   0.0s\n",
      "[CV] kernel=rbf, C=100, gamma=0.0001 .................................\n",
      "[CV] .. kernel=rbf, C=100, gamma=0.0001, score=0.836177, total=   0.0s\n",
      "[CV] kernel=rbf, C=100, gamma=0.0001 .................................\n",
      "[CV] .. kernel=rbf, C=100, gamma=0.0001, score=0.880137, total=   0.0s\n",
      "[CV] kernel=rbf, C=100, gamma=0.0001 .................................\n",
      "[CV] .. kernel=rbf, C=100, gamma=0.0001, score=0.845890, total=   0.0s\n",
      "[CV] kernel=rbf, C=1000, gamma=1 .....................................\n",
      "[CV] ...... kernel=rbf, C=1000, gamma=1, score=0.709898, total=   0.0s\n",
      "[CV] kernel=rbf, C=1000, gamma=1 .....................................\n",
      "[CV] ...... kernel=rbf, C=1000, gamma=1, score=0.712329, total=   0.0s\n",
      "[CV] kernel=rbf, C=1000, gamma=1 .....................................\n",
      "[CV] ...... kernel=rbf, C=1000, gamma=1, score=0.756849, total=   0.0s\n",
      "[CV] kernel=rbf, C=1000, gamma=0.1 ...................................\n",
      "[CV] .... kernel=rbf, C=1000, gamma=0.1, score=0.802048, total=   0.0s\n",
      "[CV] kernel=rbf, C=1000, gamma=0.1 ...................................\n",
      "[CV] .... kernel=rbf, C=1000, gamma=0.1, score=0.763699, total=   0.0s\n",
      "[CV] kernel=rbf, C=1000, gamma=0.1 ...................................\n",
      "[CV] .... kernel=rbf, C=1000, gamma=0.1, score=0.780822, total=   0.0s\n",
      "[CV] kernel=rbf, C=1000, gamma=0.01 ..................................\n"
     ]
    },
    {
     "name": "stdout",
     "output_type": "stream",
     "text": [
      "[CV] ... kernel=rbf, C=1000, gamma=0.01, score=0.825939, total=   0.1s\n",
      "[CV] kernel=rbf, C=1000, gamma=0.01 ..................................\n",
      "[CV] ... kernel=rbf, C=1000, gamma=0.01, score=0.825342, total=   0.1s\n",
      "[CV] kernel=rbf, C=1000, gamma=0.01 ..................................\n",
      "[CV] ... kernel=rbf, C=1000, gamma=0.01, score=0.818493, total=   0.1s\n",
      "[CV] kernel=rbf, C=1000, gamma=0.001 .................................\n",
      "[CV] .. kernel=rbf, C=1000, gamma=0.001, score=0.836177, total=   0.0s\n",
      "[CV] kernel=rbf, C=1000, gamma=0.001 .................................\n",
      "[CV] .. kernel=rbf, C=1000, gamma=0.001, score=0.869863, total=   0.0s\n",
      "[CV] kernel=rbf, C=1000, gamma=0.001 .................................\n",
      "[CV] .. kernel=rbf, C=1000, gamma=0.001, score=0.845890, total=   0.0s\n",
      "[CV] kernel=rbf, C=1000, gamma=0.0001 ................................\n",
      "[CV] . kernel=rbf, C=1000, gamma=0.0001, score=0.836177, total=   0.1s\n",
      "[CV] kernel=rbf, C=1000, gamma=0.0001 ................................\n",
      "[CV] . kernel=rbf, C=1000, gamma=0.0001, score=0.880137, total=   0.0s\n",
      "[CV] kernel=rbf, C=1000, gamma=0.0001 ................................\n",
      "[CV] . kernel=rbf, C=1000, gamma=0.0001, score=0.845890, total=   0.1s\n"
     ]
    },
    {
     "name": "stderr",
     "output_type": "stream",
     "text": [
      "[Parallel(n_jobs=1)]: Done  75 out of  75 | elapsed:    2.6s finished\n"
     ]
    },
    {
     "data": {
      "text/plain": [
       "GridSearchCV(cv=None, error_score='raise',\n",
       "       estimator=SVC(C=1.0, cache_size=200, class_weight=None, coef0=0.0,\n",
       "  decision_function_shape=None, degree=3, gamma='auto', kernel='rbf',\n",
       "  max_iter=-1, probability=False, random_state=None, shrinking=True,\n",
       "  tol=0.001, verbose=False),\n",
       "       fit_params={}, iid=True, n_jobs=1,\n",
       "       param_grid={'kernel': ['rbf'], 'C': [0.1, 1, 10, 100, 1000], 'gamma': [1, 0.1, 0.01, 0.001, 0.0001]},\n",
       "       pre_dispatch='2*n_jobs', refit=True, return_train_score=True,\n",
       "       scoring=None, verbose=3)"
      ]
     },
     "execution_count": 69,
     "metadata": {},
     "output_type": "execute_result"
    }
   ],
   "source": [
    "# add Grid Search to find best parama\n",
    "from sklearn.model_selection import GridSearchCV\n",
    "param_grid = {'C': [0.1,1, 10, 100, 1000], 'gamma': [1,0.1,0.01,0.001,0.0001], 'kernel': ['rbf']}\n",
    "grid = GridSearchCV(SVC(),param_grid,refit=True,verbose=3)\n",
    "grid.fit(X_train,y_train)"
   ]
  },
  {
   "cell_type": "code",
   "execution_count": 70,
   "metadata": {},
   "outputs": [
    {
     "name": "stdout",
     "output_type": "stream",
     "text": [
      "[[238  31]\n",
      " [ 31 132]]\n",
      "             precision    recall  f1-score   support\n",
      "\n",
      "          0       0.88      0.88      0.88       269\n",
      "          1       0.80      0.81      0.80       163\n",
      "\n",
      "avg / total       0.85      0.85      0.85       432\n",
      "\n"
     ]
    }
   ],
   "source": [
    "# print report\n",
    "from sklearn.metrics import classification_report,confusion_matrix\n",
    "grid_predictions = grid.predict(X_test)\n",
    "print(confusion_matrix(y_test,grid_predictions))\n",
    "print(classification_report(y_test,predictions))"
   ]
  },
  {
   "cell_type": "code",
   "execution_count": 71,
   "metadata": {
    "collapsed": true
   },
   "outputs": [],
   "source": [
    "# start with tensorflow version 1\n",
    "\n",
    "input_vector_size = X_train.shape[1]\n",
    "output_size = 1\n",
    "number_of_hidden_neurons = 5\n",
    "\n",
    "y_train = np.expand_dims(y_train, 1)\n",
    "y_test = np.expand_dims(y_test, 1)\n",
    "\n",
    "# === We build the graph here!\n",
    "titanic_graph_1 = tf.Graph()\n",
    "\n",
    "with titanic_graph_1.as_default():\n",
    "    \n",
    "    # We create \"None\" size placeholders to let us put variable sized \"Batches\" of data at a time\n",
    "    x = tf.placeholder(\"float\", shape = [None, input_vector_size])\n",
    "    y = tf.placeholder(\"float\", shape =[None, output_size])\n",
    "\n",
    "    # We're going to use an initializer to generate random values for our weights\n",
    "    initializer = tf.contrib.layers.xavier_initializer()\n",
    "\n",
    "    # Hidden layer weights, connecting input to hidden neurons\n",
    "    hidden_weights = tf.Variable(initializer(shape=[input_vector_size, number_of_hidden_neurons]))\n",
    "    \n",
    "    # Output layer weights, connecting hidden neurons to output\n",
    "    output_weights = tf.Variable(initializer(shape=[number_of_hidden_neurons, output_size]))\n",
    "    # Biases for the hidden neurons\n",
    "    bias = tf.Variable(tf.zeros([output_size]))\n",
    "    \n",
    "    # Biases for the output \n",
    "    bias1 = tf.Variable(tf.zeros([number_of_hidden_neurons]))\n",
    "    \n",
    "    # Hidden layer logits and activation\n",
    "    hidden = tf.nn.tanh(tf.matmul(x, hidden_weights) + bias1)\n",
    "    \n",
    "    # Output layer \n",
    "    output_layer = (tf.matmul(hidden, output_weights) + bias)\n",
    "    \n",
    "    # Squared Error function\n",
    "    error = tf.reduce_mean(tf.pow((y-output_layer), 2))\n",
    "    \n",
    "    # We will use Adam Optimizer for network optimization\n",
    "    optimizer = tf.train.AdamOptimizer().minimize(error)\n",
    "    \n",
    "    # Our initialization operation\n",
    "    init = tf.global_variables_initializer()"
   ]
  },
  {
   "cell_type": "code",
   "execution_count": 72,
   "metadata": {},
   "outputs": [
    {
     "name": "stdout",
     "output_type": "stream",
     "text": [
      "validation error: 2.30426\n",
      "validation error: 0.120678\n",
      "validation error: 0.110402\n",
      "validation error: 0.106732\n",
      "validation error: 0.105907\n",
      "validation error: 0.107708\n",
      "validation error: 0.108566\n",
      "validation error: 0.11017\n",
      "validation error: 0.112583\n",
      "validation error: 0.111674\n",
      "validation error: 0.111655\n",
      "validation error: 0.111214\n",
      "validation error: 0.112143\n",
      "validation error: 0.114493\n",
      "validation error: 0.116316\n",
      "validation error: 0.117358\n",
      "validation error: 0.118238\n",
      "validation error: 0.118545\n",
      "validation error: 0.118698\n",
      "validation error: 0.11895\n"
     ]
    }
   ],
   "source": [
    "# We create our sessions\n",
    "sess_1 = tf.Session(graph=titanic_graph_1)\n",
    "\n",
    "# Make sure to run the initialization\n",
    "sess_1.run(init)\n",
    "\n",
    "Total_ephoch = 20000\n",
    "\n",
    "train_error = []\n",
    "valid_error = []\n",
    "\n",
    "# Train loop for the model\n",
    "for i in range(Total_ephoch):\n",
    "    \n",
    "    #Session runs train_op to minimize loss\n",
    "    sess_1.run(optimizer, feed_dict={x: X_train, y: y_train})\n",
    "    \n",
    "    train_error.append(sess_1.run(error, feed_dict={x: X_train, y: y_train}))\n",
    "    valid_error.append(sess_1.run(error, feed_dict={x: X_test, y: y_test}))\n",
    "    \n",
    "    if i%1000 == 0:\n",
    "        print (\"validation error:\", valid_error[i])\n"
   ]
  },
  {
   "cell_type": "code",
   "execution_count": null,
   "metadata": {
    "collapsed": true
   },
   "outputs": [],
   "source": []
  }
 ],
 "metadata": {
  "kernelspec": {
   "display_name": "Python 2",
   "language": "python",
   "name": "python2"
  },
  "language_info": {
   "codemirror_mode": {
    "name": "ipython",
    "version": 2
   },
   "file_extension": ".py",
   "mimetype": "text/x-python",
   "name": "python",
   "nbconvert_exporter": "python",
   "pygments_lexer": "ipython2",
   "version": "2.7.9"
  }
 },
 "nbformat": 4,
 "nbformat_minor": 2
}
